{
  "cells": [
    {
      "cell_type": "markdown",
      "metadata": {
        "id": "view-in-github",
        "colab_type": "text"
      },
      "source": [
        "<a href=\"https://colab.research.google.com/github/plusheart/NTHU_2025_GenAI/blob/main/Dict/w2_NN%E8%BE%A8%E8%AD%98%E6%89%8B%E5%AF%AB%E6%95%B8%E5%AD%97.ipynb\" target=\"_parent\"><img src=\"https://colab.research.google.com/assets/colab-badge.svg\" alt=\"Open In Colab\"/></a>"
      ]
    },
    {
      "cell_type": "code",
      "source": [
        "%matplotlib inline\n",
        "\n",
        "# 標準數據分析、畫圖套件\n",
        "import numpy as np\n",
        "import matplotlib.pyplot as plt\n",
        "from PIL import Image\n",
        "\n",
        "# 神經網路方面\n",
        "from tensorflow.keras.datasets import mnist\n",
        "from tensorflow.keras.utils import to_categorical\n",
        "from tensorflow.keras.models import Sequential\n",
        "from tensorflow.keras.layers import Dense, Dropout, BatchNormalization\n",
        "from tensorflow.keras.optimizers import Adam\n",
        "from tensorflow.keras.callbacks import EarlyStopping\n",
        "\n",
        "# 互動設計用\n",
        "from ipywidgets import interact_manual"
      ],
      "metadata": {
        "id": "MEuq_hWAQzk4"
      },
      "execution_count": null,
      "outputs": []
    },
    {
      "cell_type": "code",
      "source": [
        "# 超參數設定\n",
        "N1, N2, N3, N4 = 512, 256, 128, 64\n",
        "BATCH_SIZE = 100\n",
        "EPOCHS = 100\n",
        "LEARNING_RATE = 0.001"
      ],
      "metadata": {
        "id": "dIaEWNg4Q0_O"
      },
      "execution_count": null,
      "outputs": []
    },
    {
      "cell_type": "markdown",
      "source": [
        "# dataset"
      ],
      "metadata": {
        "id": "_5PJapxqVUzF"
      }
    },
    {
      "cell_type": "code",
      "source": [
        "# 載入 MNIST 資料集\n",
        "(x_train, y_train), (x_test, y_test) = mnist.load_data()"
      ],
      "metadata": {
        "id": "ulVAJLPwVW7L"
      },
      "execution_count": null,
      "outputs": []
    },
    {
      "cell_type": "code",
      "source": [
        "print(f'訓練資料總筆數為 {len(x_train)} 筆資料')\n",
        "print(f'測試資料總筆數為 {len(x_test)} 筆資料')"
      ],
      "metadata": {
        "colab": {
          "base_uri": "https://localhost:8080/"
        },
        "id": "qiawrRqXVYFj",
        "outputId": "760a9764-4baa-40e3-9bdd-61d5873a193b"
      },
      "execution_count": null,
      "outputs": [
        {
          "output_type": "stream",
          "name": "stdout",
          "text": [
            "訓練資料總筆數為 60000 筆資料\n",
            "測試資料總筆數為 10000 筆資料\n"
          ]
        }
      ]
    },
    {
      "cell_type": "code",
      "source": [
        "# 60000筆數據，每筆為28*28 矩陣\n",
        "x_train.shape"
      ],
      "metadata": {
        "colab": {
          "base_uri": "https://localhost:8080/"
        },
        "id": "8gKAHlEUVbm5",
        "outputId": "f072a334-c31d-4e93-c042-3012ab615604"
      },
      "execution_count": null,
      "outputs": [
        {
          "output_type": "execute_result",
          "data": {
            "text/plain": [
              "(60000, 28, 28)"
            ]
          },
          "metadata": {},
          "execution_count": 5
        }
      ]
    },
    {
      "cell_type": "code",
      "source": [
        "def show_xy(n=0):\n",
        "    ax = plt.gca()\n",
        "    X = x_train[n]\n",
        "    plt.xticks([], [])\n",
        "    plt.yticks([], [])\n",
        "    plt.imshow(X, cmap = 'Greys')\n",
        "    print(f'本資料 y 給定的答案為: {y_train[n]}')"
      ],
      "metadata": {
        "id": "2pcWQ_irU3Ux"
      },
      "execution_count": null,
      "outputs": []
    },
    {
      "cell_type": "code",
      "source": [
        "interact_manual(show_xy, n=(0,59999));"
      ],
      "metadata": {
        "colab": {
          "base_uri": "https://localhost:8080/",
          "referenced_widgets": [
            "d03cf151dfab4f36b5dc0dd4aa87243a",
            "ea057d91c11f45a089de11dab321f4d1",
            "93ab0df940d049dd8cbdb64f60b88eb4",
            "0972ec2b5f304f4cb075776a82881865",
            "70c18f9dac964c6db369bb5bac71e3d4",
            "29917df8ecf0449189ae1004f0c95eff",
            "6331ca3c77ea45598711d39c5129085e",
            "a08071f15844469bae1f2f388ab2f686",
            "898dbe4406044ff7a917cb5bf939517e",
            "e50627da75734b099ddaa7a78b8effa2"
          ]
        },
        "id": "7VFspR6XVEnw",
        "outputId": "86dfa309-c0ee-482b-8761-197c360097c0"
      },
      "execution_count": null,
      "outputs": [
        {
          "output_type": "display_data",
          "data": {
            "text/plain": [
              "interactive(children=(IntSlider(value=0, description='n', max=59999), Button(description='Run Interact', style…"
            ],
            "application/vnd.jupyter.widget-view+json": {
              "version_major": 2,
              "version_minor": 0,
              "model_id": "d03cf151dfab4f36b5dc0dd4aa87243a"
            }
          },
          "metadata": {}
        }
      ]
    },
    {
      "cell_type": "markdown",
      "source": [
        "# Reshape\n",
        "\n",
        "\n",
        "*   28x28=784 長的向量\n",
        "*   轉換成0~255之間"
      ],
      "metadata": {
        "id": "3ggKCADxWUnU"
      }
    },
    {
      "cell_type": "code",
      "source": [
        "x_train = x_train.reshape(60000, 784) / 255.0\n",
        "x_test = x_test.reshape(10000, 784) / 255.0\n",
        "y_train = to_categorical(y_train, 10)\n",
        "y_test = to_categorical(y_test, 10)"
      ],
      "metadata": {
        "id": "DJEFTQ7pQ2x-"
      },
      "execution_count": null,
      "outputs": []
    },
    {
      "cell_type": "markdown",
      "source": [
        "# 建立NN\n",
        "\n",
        "\n",
        "*   在每層全連接層後加入 Batch Normalization，使每批資料的分布更穩定\n",
        "*   新增 Dropout: 隨機關閉部分神經\n",
        "*   分類問題損失函數改成categorical_crossentropy(原為mse)\n",
        "*   改用 Adam 優化器(原為SGD)\n",
        "*   EarlyStopping: 若連續 10 輪沒有進步，自動停止訓練\n",
        "\n",
        "\n",
        "\n",
        "\n",
        "\n"
      ],
      "metadata": {
        "id": "UTDVzNEbWZAo"
      }
    },
    {
      "cell_type": "code",
      "source": [
        "# 建立模型\n",
        "model = Sequential()\n",
        "model.add(Dense(N1, input_dim=784, activation='relu'))\n",
        "model.add(BatchNormalization())\n",
        "model.add(Dropout(0.2))\n",
        "model.add(Dense(N2, activation='relu'))\n",
        "model.add(BatchNormalization())\n",
        "model.add(Dropout(0.2))\n",
        "model.add(Dense(N3, activation='relu'))\n",
        "model.add(BatchNormalization())\n",
        "model.add(Dropout(0.2))\n",
        "model.add(Dense(N4, activation='relu'))\n",
        "model.add(BatchNormalization())\n",
        "model.add(Dropout(0.2))\n",
        "model.add(Dense(10, activation='softmax'))"
      ],
      "metadata": {
        "colab": {
          "base_uri": "https://localhost:8080/"
        },
        "id": "0nWPcvdcQ6sG",
        "outputId": "5b33e78b-94db-4fd5-f588-83aabd78bc34"
      },
      "execution_count": null,
      "outputs": [
        {
          "output_type": "stream",
          "name": "stderr",
          "text": [
            "/usr/local/lib/python3.11/dist-packages/keras/src/layers/core/dense.py:87: UserWarning: Do not pass an `input_shape`/`input_dim` argument to a layer. When using Sequential models, prefer using an `Input(shape)` object as the first layer in the model instead.\n",
            "  super().__init__(activity_regularizer=activity_regularizer, **kwargs)\n"
          ]
        }
      ]
    },
    {
      "cell_type": "code",
      "source": [
        "# 編譯模型\n",
        "model.compile(loss='categorical_crossentropy', optimizer=Adam(learning_rate=LEARNING_RATE), metrics=['accuracy'])"
      ],
      "metadata": {
        "id": "qlV2OwCbQ8SW"
      },
      "execution_count": null,
      "outputs": []
    },
    {
      "cell_type": "code",
      "source": [
        "# 訓練模型（加入 EarlyStopping 機制）\n",
        "early_stopping = EarlyStopping(monitor='val_loss', patience=10, restore_best_weights=True)\n",
        "history = model.fit(x_train, y_train, validation_split=0.2, batch_size=BATCH_SIZE, epochs=EPOCHS, callbacks=[early_stopping], verbose=1)"
      ],
      "metadata": {
        "colab": {
          "base_uri": "https://localhost:8080/"
        },
        "id": "BGgCWNPkQ9Us",
        "outputId": "cbebac28-95f2-41c1-fff8-db7fb6103f26"
      },
      "execution_count": null,
      "outputs": [
        {
          "output_type": "stream",
          "name": "stdout",
          "text": [
            "Epoch 1/100\n",
            "\u001b[1m480/480\u001b[0m \u001b[32m━━━━━━━━━━━━━━━━━━━━\u001b[0m\u001b[37m\u001b[0m \u001b[1m10s\u001b[0m 6ms/step - accuracy: 0.8060 - loss: 0.6418 - val_accuracy: 0.9611 - val_loss: 0.1298\n",
            "Epoch 2/100\n",
            "\u001b[1m480/480\u001b[0m \u001b[32m━━━━━━━━━━━━━━━━━━━━\u001b[0m\u001b[37m\u001b[0m \u001b[1m5s\u001b[0m 4ms/step - accuracy: 0.9515 - loss: 0.1629 - val_accuracy: 0.9688 - val_loss: 0.0975\n",
            "Epoch 3/100\n",
            "\u001b[1m480/480\u001b[0m \u001b[32m━━━━━━━━━━━━━━━━━━━━\u001b[0m\u001b[37m\u001b[0m \u001b[1m2s\u001b[0m 4ms/step - accuracy: 0.9650 - loss: 0.1163 - val_accuracy: 0.9722 - val_loss: 0.0909\n",
            "Epoch 4/100\n",
            "\u001b[1m480/480\u001b[0m \u001b[32m━━━━━━━━━━━━━━━━━━━━\u001b[0m\u001b[37m\u001b[0m \u001b[1m2s\u001b[0m 4ms/step - accuracy: 0.9706 - loss: 0.0992 - val_accuracy: 0.9738 - val_loss: 0.0938\n",
            "Epoch 5/100\n",
            "\u001b[1m480/480\u001b[0m \u001b[32m━━━━━━━━━━━━━━━━━━━━\u001b[0m\u001b[37m\u001b[0m \u001b[1m2s\u001b[0m 4ms/step - accuracy: 0.9759 - loss: 0.0802 - val_accuracy: 0.9737 - val_loss: 0.0995\n",
            "Epoch 6/100\n",
            "\u001b[1m480/480\u001b[0m \u001b[32m━━━━━━━━━━━━━━━━━━━━\u001b[0m\u001b[37m\u001b[0m \u001b[1m2s\u001b[0m 5ms/step - accuracy: 0.9751 - loss: 0.0766 - val_accuracy: 0.9743 - val_loss: 0.0885\n",
            "Epoch 7/100\n",
            "\u001b[1m480/480\u001b[0m \u001b[32m━━━━━━━━━━━━━━━━━━━━\u001b[0m\u001b[37m\u001b[0m \u001b[1m2s\u001b[0m 4ms/step - accuracy: 0.9769 - loss: 0.0713 - val_accuracy: 0.9759 - val_loss: 0.0873\n",
            "Epoch 8/100\n",
            "\u001b[1m480/480\u001b[0m \u001b[32m━━━━━━━━━━━━━━━━━━━━\u001b[0m\u001b[37m\u001b[0m \u001b[1m2s\u001b[0m 4ms/step - accuracy: 0.9800 - loss: 0.0627 - val_accuracy: 0.9771 - val_loss: 0.0861\n",
            "Epoch 9/100\n",
            "\u001b[1m480/480\u001b[0m \u001b[32m━━━━━━━━━━━━━━━━━━━━\u001b[0m\u001b[37m\u001b[0m \u001b[1m3s\u001b[0m 4ms/step - accuracy: 0.9821 - loss: 0.0560 - val_accuracy: 0.9797 - val_loss: 0.0811\n",
            "Epoch 10/100\n",
            "\u001b[1m480/480\u001b[0m \u001b[32m━━━━━━━━━━━━━━━━━━━━\u001b[0m\u001b[37m\u001b[0m \u001b[1m3s\u001b[0m 4ms/step - accuracy: 0.9839 - loss: 0.0518 - val_accuracy: 0.9777 - val_loss: 0.0863\n",
            "Epoch 11/100\n",
            "\u001b[1m480/480\u001b[0m \u001b[32m━━━━━━━━━━━━━━━━━━━━\u001b[0m\u001b[37m\u001b[0m \u001b[1m2s\u001b[0m 5ms/step - accuracy: 0.9846 - loss: 0.0490 - val_accuracy: 0.9800 - val_loss: 0.0789\n",
            "Epoch 12/100\n",
            "\u001b[1m480/480\u001b[0m \u001b[32m━━━━━━━━━━━━━━━━━━━━\u001b[0m\u001b[37m\u001b[0m \u001b[1m2s\u001b[0m 4ms/step - accuracy: 0.9855 - loss: 0.0439 - val_accuracy: 0.9787 - val_loss: 0.0744\n",
            "Epoch 13/100\n",
            "\u001b[1m480/480\u001b[0m \u001b[32m━━━━━━━━━━━━━━━━━━━━\u001b[0m\u001b[37m\u001b[0m \u001b[1m2s\u001b[0m 4ms/step - accuracy: 0.9871 - loss: 0.0423 - val_accuracy: 0.9812 - val_loss: 0.0714\n",
            "Epoch 14/100\n",
            "\u001b[1m480/480\u001b[0m \u001b[32m━━━━━━━━━━━━━━━━━━━━\u001b[0m\u001b[37m\u001b[0m \u001b[1m2s\u001b[0m 4ms/step - accuracy: 0.9875 - loss: 0.0406 - val_accuracy: 0.9778 - val_loss: 0.0874\n",
            "Epoch 15/100\n",
            "\u001b[1m480/480\u001b[0m \u001b[32m━━━━━━━━━━━━━━━━━━━━\u001b[0m\u001b[37m\u001b[0m \u001b[1m2s\u001b[0m 4ms/step - accuracy: 0.9881 - loss: 0.0376 - val_accuracy: 0.9791 - val_loss: 0.0796\n",
            "Epoch 16/100\n",
            "\u001b[1m480/480\u001b[0m \u001b[32m━━━━━━━━━━━━━━━━━━━━\u001b[0m\u001b[37m\u001b[0m \u001b[1m2s\u001b[0m 5ms/step - accuracy: 0.9882 - loss: 0.0362 - val_accuracy: 0.9801 - val_loss: 0.0738\n",
            "Epoch 17/100\n",
            "\u001b[1m480/480\u001b[0m \u001b[32m━━━━━━━━━━━━━━━━━━━━\u001b[0m\u001b[37m\u001b[0m \u001b[1m2s\u001b[0m 5ms/step - accuracy: 0.9887 - loss: 0.0349 - val_accuracy: 0.9808 - val_loss: 0.0785\n",
            "Epoch 18/100\n",
            "\u001b[1m480/480\u001b[0m \u001b[32m━━━━━━━━━━━━━━━━━━━━\u001b[0m\u001b[37m\u001b[0m \u001b[1m2s\u001b[0m 4ms/step - accuracy: 0.9893 - loss: 0.0351 - val_accuracy: 0.9792 - val_loss: 0.0779\n",
            "Epoch 19/100\n",
            "\u001b[1m480/480\u001b[0m \u001b[32m━━━━━━━━━━━━━━━━━━━━\u001b[0m\u001b[37m\u001b[0m \u001b[1m2s\u001b[0m 4ms/step - accuracy: 0.9901 - loss: 0.0320 - val_accuracy: 0.9813 - val_loss: 0.0756\n",
            "Epoch 20/100\n",
            "\u001b[1m480/480\u001b[0m \u001b[32m━━━━━━━━━━━━━━━━━━━━\u001b[0m\u001b[37m\u001b[0m \u001b[1m2s\u001b[0m 4ms/step - accuracy: 0.9922 - loss: 0.0253 - val_accuracy: 0.9818 - val_loss: 0.0776\n",
            "Epoch 21/100\n",
            "\u001b[1m480/480\u001b[0m \u001b[32m━━━━━━━━━━━━━━━━━━━━\u001b[0m\u001b[37m\u001b[0m \u001b[1m3s\u001b[0m 5ms/step - accuracy: 0.9908 - loss: 0.0269 - val_accuracy: 0.9809 - val_loss: 0.0794\n",
            "Epoch 22/100\n",
            "\u001b[1m480/480\u001b[0m \u001b[32m━━━━━━━━━━━━━━━━━━━━\u001b[0m\u001b[37m\u001b[0m \u001b[1m3s\u001b[0m 5ms/step - accuracy: 0.9917 - loss: 0.0264 - val_accuracy: 0.9826 - val_loss: 0.0809\n",
            "Epoch 23/100\n",
            "\u001b[1m480/480\u001b[0m \u001b[32m━━━━━━━━━━━━━━━━━━━━\u001b[0m\u001b[37m\u001b[0m \u001b[1m2s\u001b[0m 4ms/step - accuracy: 0.9913 - loss: 0.0279 - val_accuracy: 0.9812 - val_loss: 0.0776\n"
          ]
        }
      ]
    },
    {
      "cell_type": "code",
      "source": [
        "# 評估模型\n",
        "loss, acc = model.evaluate(x_test, y_test)\n",
        "print(f\"測試資料正確率: {acc * 100:.2f}%\")"
      ],
      "metadata": {
        "colab": {
          "base_uri": "https://localhost:8080/"
        },
        "id": "k9FgyOjEQ-aE",
        "outputId": "e99051a0-7805-426e-a40f-fc9b86be154c"
      },
      "execution_count": null,
      "outputs": [
        {
          "output_type": "stream",
          "name": "stdout",
          "text": [
            "\u001b[1m313/313\u001b[0m \u001b[32m━━━━━━━━━━━━━━━━━━━━\u001b[0m\u001b[37m\u001b[0m \u001b[1m2s\u001b[0m 4ms/step - accuracy: 0.9787 - loss: 0.0813\n",
            "測試資料正確率: 98.19%\n"
          ]
        }
      ]
    },
    {
      "cell_type": "code",
      "source": [
        "# 繪製訓練過程\n",
        "plt.plot(history.history['accuracy'], label='Train Accuracy')\n",
        "plt.plot(history.history['val_accuracy'], label='Validation Accuracy')\n",
        "plt.xlabel('Epochs')\n",
        "plt.ylabel('Accuracy')\n",
        "plt.legend()\n",
        "plt.show()\n"
      ],
      "metadata": {
        "colab": {
          "base_uri": "https://localhost:8080/",
          "height": 449
        },
        "id": "Xf0tSlE0Q_j-",
        "outputId": "a1eed9f6-8e3b-499c-99dc-12cb1c1915d8"
      },
      "execution_count": null,
      "outputs": [
        {
          "output_type": "display_data",
          "data": {
            "text/plain": [
              "<Figure size 640x480 with 1 Axes>"
            ],
            "image/png": "[encoded data removed]"
          },
          "metadata": {}
        }
      ]
    },
    {
      "cell_type": "markdown",
      "source": [
        "# 效果"
      ],
      "metadata": {
        "id": "pLE8ZDTyXJ5V"
      }
    },
    {
      "cell_type": "code",
      "source": [
        "# 預測\n",
        "predict = np.argmax(model.predict(x_test), axis=-1)"
      ],
      "metadata": {
        "colab": {
          "base_uri": "https://localhost:8080/"
        },
        "id": "t44fBsJbXXxA",
        "outputId": "51755977-ed76-4e58-ca9d-47b4afa377db"
      },
      "execution_count": null,
      "outputs": [
        {
          "output_type": "stream",
          "name": "stdout",
          "text": [
            "\u001b[1m313/313\u001b[0m \u001b[32m━━━━━━━━━━━━━━━━━━━━\u001b[0m\u001b[37m\u001b[0m \u001b[1m1s\u001b[0m 3ms/step\n"
          ]
        }
      ]
    },
    {
      "cell_type": "code",
      "source": [
        "def test(測試編號):\n",
        "    plt.imshow(x_test[測試編號].reshape(28, 28), cmap='Greys')\n",
        "    plt.show()\n",
        "    print('神經網路判斷為:', predict[測試編號])"
      ],
      "metadata": {
        "id": "2nasaGLCXM7d"
      },
      "execution_count": null,
      "outputs": []
    },
    {
      "cell_type": "code",
      "source": [
        "interact_manual(test, 測試編號=(0, 9999))"
      ],
      "metadata": {
        "colab": {
          "base_uri": "https://localhost:8080/",
          "height": 600,
          "referenced_widgets": [
            "d9027a734417407c9f321415acc3abb3",
            "bc8afb5a00cc47be82193b22c378e07a",
            "5d715f5965b94e1d91be11e2a8f4f2b8",
            "3672ad944d6e4f40bbd41afb45e50fad",
            "75d988563ce444c3b05d5d3353e330de",
            "c326ef78fb884db18fc1f9879fd15e4e",
            "63bcbab7bd4a4707acd66c8274b27d17",
            "0ed731588af740aea6e327e26ecbcae1",
            "541d2e08d6bb4dcb829d3c536ea398af",
            "82a81947fb82440ca825715550f64980"
          ]
        },
        "id": "qkstmsq7XVQQ",
        "outputId": "9d39229f-5f68-40a5-be73-ade5d970fee5"
      },
      "execution_count": null,
      "outputs": [
        {
          "output_type": "display_data",
          "data": {
            "text/plain": [
              "interactive(children=(IntSlider(value=4999, description='測試編號', max=9999), Button(description='Run Interact', …"
            ],
            "application/vnd.jupyter.widget-view+json": {
              "version_major": 2,
              "version_minor": 0,
              "model_id": "d9027a734417407c9f321415acc3abb3"
            }
          },
          "metadata": {}
        },
        {
          "output_type": "execute_result",
          "data": {
            "text/plain": [
              "<function __main__.test(測試編號)>"
            ],
            "text/html": [
              "<div style=\"max-width:800px; border: 1px solid var(--colab-border-color);\"><style>\n",
              "      pre.function-repr-contents {\n",
              "        overflow-x: auto;\n",
              "        padding: 8px 12px;\n",
              "        max-height: 500px;\n",
              "      }\n",
              "\n",
              "      pre.function-repr-contents.function-repr-contents-collapsed {\n",
              "        cursor: pointer;\n",
              "        max-height: 100px;\n",
              "      }\n",
              "    </style>\n",
              "    <pre style=\"white-space: initial; background:\n",
              "         var(--colab-secondary-surface-color); padding: 8px 12px;\n",
              "         border-bottom: 1px solid var(--colab-border-color);\"><b>test</b><br/>def test(測試編號)</pre><pre class=\"function-repr-contents function-repr-contents-collapsed\" style=\"\"><a class=\"filepath\" style=\"display:none\" href=\"#\">/content/&lt;ipython-input-15-c17b08182ed2&gt;</a>&lt;no docstring&gt;</pre></div>"
            ]
          },
          "metadata": {},
          "execution_count": 16
        }
      ]
    },
    {
      "cell_type": "code",
      "source": [
        "# 評估分數\n",
        "score = model.evaluate(x_test, y_test)\n",
        "print('loss:', score[0])\n",
        "print('正確率', score[1])"
      ],
      "metadata": {
        "colab": {
          "base_uri": "https://localhost:8080/"
        },
        "id": "1H5WsDNnXxHh",
        "outputId": "3617a423-66d9-4cf4-f4f4-1b1d30b421be"
      },
      "execution_count": null,
      "outputs": [
        {
          "output_type": "stream",
          "name": "stdout",
          "text": [
            "\u001b[1m313/313\u001b[0m \u001b[32m━━━━━━━━━━━━━━━━━━━━\u001b[0m\u001b[37m\u001b[0m \u001b[1m1s\u001b[0m 2ms/step - accuracy: 0.9787 - loss: 0.0813\n",
            "loss: 0.06731656193733215\n",
            "正確率 0.9818999767303467\n"
          ]
        }
      ]
    }
  ],
  "metadata": {
    "accelerator": "GPU",
    "anaconda-cloud": {},
    "colab": {
      "collapsed_sections": [
        "fOPj5Mh50Avk",
        "mQmajlcm0Avl",
        "m41UZZdF0Avm",
        "5znBU0DV0Avo",
        "kV3613iy0Avp"
      ],
      "provenance": [],
      "include_colab_link": true
    },
    "kernelspec": {
      "display_name": "Python 3",
      "name": "python3"
    },
    "language_info": {
      "name": "python"
    },
    "widgets": {
      "application/vnd.jupyter.widget-state+json": {
        "d03cf151dfab4f36b5dc0dd4aa87243a": {
          "model_module": "@jupyter-widgets/controls",
          "model_name": "VBoxModel",
          "model_module_version": "1.5.0",
          "state": {
            "_dom_classes": [
              "widget-interact"
            ],
            "_model_module": "@jupyter-widgets/controls",
            "_model_module_version": "1.5.0",
            "_model_name": "VBoxModel",
            "_view_count": null,
            "_view_module": "@jupyter-widgets/controls",
            "_view_module_version": "1.5.0",
            "_view_name": "VBoxView",
            "box_style": "",
            "children": [
              "IPY_MODEL_ea057d91c11f45a089de11dab321f4d1",
              "IPY_MODEL_93ab0df940d049dd8cbdb64f60b88eb4",
              "IPY_MODEL_0972ec2b5f304f4cb075776a82881865"
            ],
            "layout": "IPY_MODEL_70c18f9dac964c6db369bb5bac71e3d4"
          }
        },
        "ea057d91c11f45a089de11dab321f4d1": {
          "model_module": "@jupyter-widgets/controls",
          "model_name": "IntSliderModel",
          "model_module_version": "1.5.0",
          "state": {
            "_dom_classes": [],
            "_model_module": "@jupyter-widgets/controls",
            "_model_module_version": "1.5.0",
            "_model_name": "IntSliderModel",
            "_view_count": null,
            "_view_module": "@jupyter-widgets/controls",
            "_view_module_version": "1.5.0",
            "_view_name": "IntSliderView",
            "continuous_update": true,
            "description": "n",
            "description_tooltip": null,
            "disabled": false,
            "layout": "IPY_MODEL_29917df8ecf0449189ae1004f0c95eff",
            "max": 59999,
            "min": 0,
            "orientation": "horizontal",
            "readout": true,
            "readout_format": "d",
            "step": 1,
            "style": "IPY_MODEL_6331ca3c77ea45598711d39c5129085e",
            "value": 0
          }
        },
        "93ab0df940d049dd8cbdb64f60b88eb4": {
          "model_module": "@jupyter-widgets/controls",
          "model_name": "ButtonModel",
          "model_module_version": "1.5.0",
          "state": {
            "_dom_classes": [],
            "_model_module": "@jupyter-widgets/controls",
            "_model_module_version": "1.5.0",
            "_model_name": "ButtonModel",
            "_view_count": null,
            "_view_module": "@jupyter-widgets/controls",
            "_view_module_version": "1.5.0",
            "_view_name": "ButtonView",
            "button_style": "",
            "description": "Run Interact",
            "disabled": false,
            "icon": "",
            "layout": "IPY_MODEL_a08071f15844469bae1f2f388ab2f686",
            "style": "IPY_MODEL_898dbe4406044ff7a917cb5bf939517e",
            "tooltip": ""
          }
        },
        "0972ec2b5f304f4cb075776a82881865": {
          "model_module": "@jupyter-widgets/output",
          "model_name": "OutputModel",
          "model_module_version": "1.0.0",
          "state": {
            "_dom_classes": [],
            "_model_module": "@jupyter-widgets/output",
            "_model_module_version": "1.0.0",
            "_model_name": "OutputModel",
            "_view_count": null,
            "_view_module": "@jupyter-widgets/output",
            "_view_module_version": "1.0.0",
            "_view_name": "OutputView",
            "layout": "IPY_MODEL_e50627da75734b099ddaa7a78b8effa2",
            "msg_id": "",
            "outputs": []
          }
        },
        "70c18f9dac964c6db369bb5bac71e3d4": {
          "model_module": "@jupyter-widgets/base",
          "model_name": "LayoutModel",
          "model_module_version": "1.2.0",
          "state": {
            "_model_module": "@jupyter-widgets/base",
            "_model_module_version": "1.2.0",
            "_model_name": "LayoutModel",
            "_view_count": null,
            "_view_module": "@jupyter-widgets/base",
            "_view_module_version": "1.2.0",
            "_view_name": "LayoutView",
            "align_content": null,
            "align_items": null,
            "align_self": null,
            "border": null,
            "bottom": null,
            "display": null,
            "flex": null,
            "flex_flow": null,
            "grid_area": null,
            "grid_auto_columns": null,
            "grid_auto_flow": null,
            "grid_auto_rows": null,
            "grid_column": null,
            "grid_gap": null,
            "grid_row": null,
            "grid_template_areas": null,
            "grid_template_columns": null,
            "grid_template_rows": null,
            "height": null,
            "justify_content": null,
            "justify_items": null,
            "left": null,
            "margin": null,
            "max_height": null,
            "max_width": null,
            "min_height": null,
            "min_width": null,
            "object_fit": null,
            "object_position": null,
            "order": null,
            "overflow": null,
            "overflow_x": null,
            "overflow_y": null,
            "padding": null,
            "right": null,
            "top": null,
            "visibility": null,
            "width": null
          }
        },
        "29917df8ecf0449189ae1004f0c95eff": {
          "model_module": "@jupyter-widgets/base",
          "model_name": "LayoutModel",
          "model_module_version": "1.2.0",
          "state": {
            "_model_module": "@jupyter-widgets/base",
            "_model_module_version": "1.2.0",
            "_model_name": "LayoutModel",
            "_view_count": null,
            "_view_module": "@jupyter-widgets/base",
            "_view_module_version": "1.2.0",
            "_view_name": "LayoutView",
            "align_content": null,
            "align_items": null,
            "align_self": null,
            "border": null,
            "bottom": null,
            "display": null,
            "flex": null,
            "flex_flow": null,
            "grid_area": null,
            "grid_auto_columns": null,
            "grid_auto_flow": null,
            "grid_auto_rows": null,
            "grid_column": null,
            "grid_gap": null,
            "grid_row": null,
            "grid_template_areas": null,
            "grid_template_columns": null,
            "grid_template_rows": null,
            "height": null,
            "justify_content": null,
            "justify_items": null,
            "left": null,
            "margin": null,
            "max_height": null,
            "max_width": null,
            "min_height": null,
            "min_width": null,
            "object_fit": null,
            "object_position": null,
            "order": null,
            "overflow": null,
            "overflow_x": null,
            "overflow_y": null,
            "padding": null,
            "right": null,
            "top": null,
            "visibility": null,
            "width": null
          }
        },
        "6331ca3c77ea45598711d39c5129085e": {
          "model_module": "@jupyter-widgets/controls",
          "model_name": "SliderStyleModel",
          "model_module_version": "1.5.0",
          "state": {
            "_model_module": "@jupyter-widgets/controls",
            "_model_module_version": "1.5.0",
            "_model_name": "SliderStyleModel",
            "_view_count": null,
            "_view_module": "@jupyter-widgets/base",
            "_view_module_version": "1.2.0",
            "_view_name": "StyleView",
            "description_width": "",
            "handle_color": null
          }
        },
        "a08071f15844469bae1f2f388ab2f686": {
          "model_module": "@jupyter-widgets/base",
          "model_name": "LayoutModel",
          "model_module_version": "1.2.0",
          "state": {
            "_model_module": "@jupyter-widgets/base",
            "_model_module_version": "1.2.0",
            "_model_name": "LayoutModel",
            "_view_count": null,
            "_view_module": "@jupyter-widgets/base",
            "_view_module_version": "1.2.0",
            "_view_name": "LayoutView",
            "align_content": null,
            "align_items": null,
            "align_self": null,
            "border": null,
            "bottom": null,
            "display": null,
            "flex": null,
            "flex_flow": null,
            "grid_area": null,
            "grid_auto_columns": null,
            "grid_auto_flow": null,
            "grid_auto_rows": null,
            "grid_column": null,
            "grid_gap": null,
            "grid_row": null,
            "grid_template_areas": null,
            "grid_template_columns": null,
            "grid_template_rows": null,
            "height": null,
            "justify_content": null,
            "justify_items": null,
            "left": null,
            "margin": null,
            "max_height": null,
            "max_width": null,
            "min_height": null,
            "min_width": null,
            "object_fit": null,
            "object_position": null,
            "order": null,
            "overflow": null,
            "overflow_x": null,
            "overflow_y": null,
            "padding": null,
            "right": null,
            "top": null,
            "visibility": null,
            "width": null
          }
        },
        "898dbe4406044ff7a917cb5bf939517e": {
          "model_module": "@jupyter-widgets/controls",
          "model_name": "ButtonStyleModel",
          "model_module_version": "1.5.0",
          "state": {
            "_model_module": "@jupyter-widgets/controls",
            "_model_module_version": "1.5.0",
            "_model_name": "ButtonStyleModel",
            "_view_count": null,
            "_view_module": "@jupyter-widgets/base",
            "_view_module_version": "1.2.0",
            "_view_name": "StyleView",
            "button_color": null,
            "font_weight": ""
          }
        },
        "e50627da75734b099ddaa7a78b8effa2": {
          "model_module": "@jupyter-widgets/base",
          "model_name": "LayoutModel",
          "model_module_version": "1.2.0",
          "state": {
            "_model_module": "@jupyter-widgets/base",
            "_model_module_version": "1.2.0",
            "_model_name": "LayoutModel",
            "_view_count": null,
            "_view_module": "@jupyter-widgets/base",
            "_view_module_version": "1.2.0",
            "_view_name": "LayoutView",
            "align_content": null,
            "align_items": null,
            "align_self": null,
            "border": null,
            "bottom": null,
            "display": null,
            "flex": null,
            "flex_flow": null,
            "grid_area": null,
            "grid_auto_columns": null,
            "grid_auto_flow": null,
            "grid_auto_rows": null,
            "grid_column": null,
            "grid_gap": null,
            "grid_row": null,
            "grid_template_areas": null,
            "grid_template_columns": null,
            "grid_template_rows": null,
            "height": null,
            "justify_content": null,
            "justify_items": null,
            "left": null,
            "margin": null,
            "max_height": null,
            "max_width": null,
            "min_height": null,
            "min_width": null,
            "object_fit": null,
            "object_position": null,
            "order": null,
            "overflow": null,
            "overflow_x": null,
            "overflow_y": null,
            "padding": null,
            "right": null,
            "top": null,
            "visibility": null,
            "width": null
          }
        },
        "d9027a734417407c9f321415acc3abb3": {
          "model_module": "@jupyter-widgets/controls",
          "model_name": "VBoxModel",
          "model_module_version": "1.5.0",
          "state": {
            "_dom_classes": [
              "widget-interact"
            ],
            "_model_module": "@jupyter-widgets/controls",
            "_model_module_version": "1.5.0",
            "_model_name": "VBoxModel",
            "_view_count": null,
            "_view_module": "@jupyter-widgets/controls",
            "_view_module_version": "1.5.0",
            "_view_name": "VBoxView",
            "box_style": "",
            "children": [
              "IPY_MODEL_bc8afb5a00cc47be82193b22c378e07a",
              "IPY_MODEL_5d715f5965b94e1d91be11e2a8f4f2b8",
              "IPY_MODEL_3672ad944d6e4f40bbd41afb45e50fad"
            ],
            "layout": "IPY_MODEL_75d988563ce444c3b05d5d3353e330de"
          }
        },
        "bc8afb5a00cc47be82193b22c378e07a": {
          "model_module": "@jupyter-widgets/controls",
          "model_name": "IntSliderModel",
          "model_module_version": "1.5.0",
          "state": {
            "_dom_classes": [],
            "_model_module": "@jupyter-widgets/controls",
            "_model_module_version": "1.5.0",
            "_model_name": "IntSliderModel",
            "_view_count": null,
            "_view_module": "@jupyter-widgets/controls",
            "_view_module_version": "1.5.0",
            "_view_name": "IntSliderView",
            "continuous_update": true,
            "description": "測試編號",
            "description_tooltip": null,
            "disabled": false,
            "layout": "IPY_MODEL_c326ef78fb884db18fc1f9879fd15e4e",
            "max": 9999,
            "min": 0,
            "orientation": "horizontal",
            "readout": true,
            "readout_format": "d",
            "step": 1,
            "style": "IPY_MODEL_63bcbab7bd4a4707acd66c8274b27d17",
            "value": 4999
          }
        },
        "5d715f5965b94e1d91be11e2a8f4f2b8": {
          "model_module": "@jupyter-widgets/controls",
          "model_name": "ButtonModel",
          "model_module_version": "1.5.0",
          "state": {
            "_dom_classes": [],
            "_model_module": "@jupyter-widgets/controls",
            "_model_module_version": "1.5.0",
            "_model_name": "ButtonModel",
            "_view_count": null,
            "_view_module": "@jupyter-widgets/controls",
            "_view_module_version": "1.5.0",
            "_view_name": "ButtonView",
            "button_style": "",
            "description": "Run Interact",
            "disabled": false,
            "icon": "",
            "layout": "IPY_MODEL_0ed731588af740aea6e327e26ecbcae1",
            "style": "IPY_MODEL_541d2e08d6bb4dcb829d3c536ea398af",
            "tooltip": ""
          }
        },
        "3672ad944d6e4f40bbd41afb45e50fad": {
          "model_module": "@jupyter-widgets/output",
          "model_name": "OutputModel",
          "model_module_version": "1.0.0",
          "state": {
            "_dom_classes": [],
            "_model_module": "@jupyter-widgets/output",
            "_model_module_version": "1.0.0",
            "_model_name": "OutputModel",
            "_view_count": null,
            "_view_module": "@jupyter-widgets/output",
            "_view_module_version": "1.0.0",
            "_view_name": "OutputView",
            "layout": "IPY_MODEL_82a81947fb82440ca825715550f64980",
            "msg_id": "",
            "outputs": [
              {
                "output_type": "display_data",
                "data": {
                  "text/plain": "<Figure size 640x480 with 1 Axes>",
                  "image/png": "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\n"
                },
                "metadata": {}
              },
              {
                "output_type": "stream",
                "name": "stdout",
                "text": [
                  "神經網路判斷為: 0\n"
                ]
              }
            ]
          }
        },
        "75d988563ce444c3b05d5d3353e330de": {
          "model_module": "@jupyter-widgets/base",
          "model_name": "LayoutModel",
          "model_module_version": "1.2.0",
          "state": {
            "_model_module": "@jupyter-widgets/base",
            "_model_module_version": "1.2.0",
            "_model_name": "LayoutModel",
            "_view_count": null,
            "_view_module": "@jupyter-widgets/base",
            "_view_module_version": "1.2.0",
            "_view_name": "LayoutView",
            "align_content": null,
            "align_items": null,
            "align_self": null,
            "border": null,
            "bottom": null,
            "display": null,
            "flex": null,
            "flex_flow": null,
            "grid_area": null,
            "grid_auto_columns": null,
            "grid_auto_flow": null,
            "grid_auto_rows": null,
            "grid_column": null,
            "grid_gap": null,
            "grid_row": null,
            "grid_template_areas": null,
            "grid_template_columns": null,
            "grid_template_rows": null,
            "height": null,
            "justify_content": null,
            "justify_items": null,
            "left": null,
            "margin": null,
            "max_height": null,
            "max_width": null,
            "min_height": null,
            "min_width": null,
            "object_fit": null,
            "object_position": null,
            "order": null,
            "overflow": null,
            "overflow_x": null,
            "overflow_y": null,
            "padding": null,
            "right": null,
            "top": null,
            "visibility": null,
            "width": null
          }
        },
        "c326ef78fb884db18fc1f9879fd15e4e": {
          "model_module": "@jupyter-widgets/base",
          "model_name": "LayoutModel",
          "model_module_version": "1.2.0",
          "state": {
            "_model_module": "@jupyter-widgets/base",
            "_model_module_version": "1.2.0",
            "_model_name": "LayoutModel",
            "_view_count": null,
            "_view_module": "@jupyter-widgets/base",
            "_view_module_version": "1.2.0",
            "_view_name": "LayoutView",
            "align_content": null,
            "align_items": null,
            "align_self": null,
            "border": null,
            "bottom": null,
            "display": null,
            "flex": null,
            "flex_flow": null,
            "grid_area": null,
            "grid_auto_columns": null,
            "grid_auto_flow": null,
            "grid_auto_rows": null,
            "grid_column": null,
            "grid_gap": null,
            "grid_row": null,
            "grid_template_areas": null,
            "grid_template_columns": null,
            "grid_template_rows": null,
            "height": null,
            "justify_content": null,
            "justify_items": null,
            "left": null,
            "margin": null,
            "max_height": null,
            "max_width": null,
            "min_height": null,
            "min_width": null,
            "object_fit": null,
            "object_position": null,
            "order": null,
            "overflow": null,
            "overflow_x": null,
            "overflow_y": null,
            "padding": null,
            "right": null,
            "top": null,
            "visibility": null,
            "width": null
          }
        },
        "63bcbab7bd4a4707acd66c8274b27d17": {
          "model_module": "@jupyter-widgets/controls",
          "model_name": "SliderStyleModel",
          "model_module_version": "1.5.0",
          "state": {
            "_model_module": "@jupyter-widgets/controls",
            "_model_module_version": "1.5.0",
            "_model_name": "SliderStyleModel",
            "_view_count": null,
            "_view_module": "@jupyter-widgets/base",
            "_view_module_version": "1.2.0",
            "_view_name": "StyleView",
            "description_width": "",
            "handle_color": null
          }
        },
        "0ed731588af740aea6e327e26ecbcae1": {
          "model_module": "@jupyter-widgets/base",
          "model_name": "LayoutModel",
          "model_module_version": "1.2.0",
          "state": {
            "_model_module": "@jupyter-widgets/base",
            "_model_module_version": "1.2.0",
            "_model_name": "LayoutModel",
            "_view_count": null,
            "_view_module": "@jupyter-widgets/base",
            "_view_module_version": "1.2.0",
            "_view_name": "LayoutView",
            "align_content": null,
            "align_items": null,
            "align_self": null,
            "border": null,
            "bottom": null,
            "display": null,
            "flex": null,
            "flex_flow": null,
            "grid_area": null,
            "grid_auto_columns": null,
            "grid_auto_flow": null,
            "grid_auto_rows": null,
            "grid_column": null,
            "grid_gap": null,
            "grid_row": null,
            "grid_template_areas": null,
            "grid_template_columns": null,
            "grid_template_rows": null,
            "height": null,
            "justify_content": null,
            "justify_items": null,
            "left": null,
            "margin": null,
            "max_height": null,
            "max_width": null,
            "min_height": null,
            "min_width": null,
            "object_fit": null,
            "object_position": null,
            "order": null,
            "overflow": null,
            "overflow_x": null,
            "overflow_y": null,
            "padding": null,
            "right": null,
            "top": null,
            "visibility": null,
            "width": null
          }
        },
        "541d2e08d6bb4dcb829d3c536ea398af": {
          "model_module": "@jupyter-widgets/controls",
          "model_name": "ButtonStyleModel",
          "model_module_version": "1.5.0",
          "state": {
            "_model_module": "@jupyter-widgets/controls",
            "_model_module_version": "1.5.0",
            "_model_name": "ButtonStyleModel",
            "_view_count": null,
            "_view_module": "@jupyter-widgets/base",
            "_view_module_version": "1.2.0",
            "_view_name": "StyleView",
            "button_color": null,
            "font_weight": ""
          }
        },
        "82a81947fb82440ca825715550f64980": {
          "model_module": "@jupyter-widgets/base",
          "model_name": "LayoutModel",
          "model_module_version": "1.2.0",
          "state": {
            "_model_module": "@jupyter-widgets/base",
            "_model_module_version": "1.2.0",
            "_model_name": "LayoutModel",
            "_view_count": null,
            "_view_module": "@jupyter-widgets/base",
            "_view_module_version": "1.2.0",
            "_view_name": "LayoutView",
            "align_content": null,
            "align_items": null,
            "align_self": null,
            "border": null,
            "bottom": null,
            "display": null,
            "flex": null,
            "flex_flow": null,
            "grid_area": null,
            "grid_auto_columns": null,
            "grid_auto_flow": null,
            "grid_auto_rows": null,
            "grid_column": null,
            "grid_gap": null,
            "grid_row": null,
            "grid_template_areas": null,
            "grid_template_columns": null,
            "grid_template_rows": null,
            "height": null,
            "justify_content": null,
            "justify_items": null,
            "left": null,
            "margin": null,
            "max_height": null,
            "max_width": null,
            "min_height": null,
            "min_width": null,
            "object_fit": null,
            "object_position": null,
            "order": null,
            "overflow": null,
            "overflow_x": null,
            "overflow_y": null,
            "padding": null,
            "right": null,
            "top": null,
            "visibility": null,
            "width": null
          }
        }
      }
    }
  },
  "nbformat": 4,
  "nbformat_minor": 0
}